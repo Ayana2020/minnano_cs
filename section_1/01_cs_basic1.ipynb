{
  "nbformat": 4,
  "nbformat_minor": 0,
  "metadata": {
    "colab": {
      "name": "01_cs_basic1.ipynb",
      "provenance": [],
      "authorship_tag": "ABX9TyPP65ZxEDtVxlLGkUxC7qfd",
      "include_colab_link": true
    },
    "kernelspec": {
      "name": "python3",
      "display_name": "Python 3"
    }
  },
  "cells": [
    {
      "cell_type": "markdown",
      "metadata": {
        "id": "view-in-github",
        "colab_type": "text"
      },
      "source": [
        "<a href=\"https://colab.research.google.com/github/yukinaga/minnano_cs/blob/main/section_1/01_cs_basic1.ipynb\" target=\"_parent\"><img src=\"https://colab.research.google.com/assets/colab-badge.svg\" alt=\"Open In Colab\"/></a>"
      ]
    },
    {
      "cell_type": "markdown",
      "metadata": {
        "id": "hxyDBv5X05ZR"
      },
      "source": [
        "# コンピュータサイエンスの基礎1\n",
        "コンピュータサイエンスの基礎として、フローチャート、および2進数と16進数について学びます。"
      ]
    },
    {
      "cell_type": "markdown",
      "metadata": {
        "id": "SsYeBxAH1tHB"
      },
      "source": [
        "## ◎フローチャート\n",
        "コンピュータのプログラムは、本質的に「手順」です。  \n",
        "そのため、プログラマーは処理の実行手順を視覚的に把握するためにフローチャートを多用します。  \n",
        "フローチャートは、以下のルールで記述されます。  \n",
        "* 処理は長方形の中に記述する\n",
        "* 分岐は菱形の中に記述する\n",
        "* 矢印で長方形や菱形を接続することで、手続きの順番を表す\n",
        "* 手続き全体の開始と終了に印をつける\n",
        "  \n",
        "フローチャートは、ライブラリ「Graphviz」を使用して描画することができます。  \n",
        "以下のセルを実行することで、値a、b、cのうちの最小値を見つけるための手順を表すフローチャートが描画されます。"
      ]
    },
    {
      "cell_type": "code",
      "metadata": {
        "id": "imtNzB2J1r7R"
      },
      "source": [
        "from graphviz import Digraph\n",
        "\n",
        "graph = Digraph(format=\"png\")\n",
        "\n",
        "graph.attr(\"node\", shape=\"box\", width=\"1\")  # グラフの設定\n",
        "\n",
        "# Nodeの設定\n",
        "graph.node(\"Start\", shape=\"oval\", color=\"red\")\n",
        "graph.node(\"a, b, cの読み込み\")\n",
        "graph.node(\"a < b ?\", shape=\"diamond\")\n",
        "graph.node(\"b < c ？\", shape=\"diamond\")\n",
        "graph.node(\"a < c ？\", shape=\"diamond\")\n",
        "graph.node(\"bを表示\")\n",
        "graph.node(\"cを表示\")\n",
        "graph.node(\"aを表示\")\n",
        "graph.node(\"End\", shape=\"oval\", color=\"blue\")\n",
        "\n",
        "# Edgeの設定\n",
        "graph.edge(\"Start\", \"a, b, cの読み込み\")\n",
        "graph.edge(\"a, b, cの読み込み\", \"a < b ?\")\n",
        "graph.edge(\"a < b ?\", \"b < c ？\", label=\"No\")\n",
        "graph.edge(\"a < b ?\", \"a < c ？\", label=\"Yes\")\n",
        "graph.edge(\"b < c ？\", \"bを表示\", label=\"Yes\")\n",
        "graph.edge(\"b < c ？\", \"cを表示\", label=\"No\")\n",
        "graph.edge(\"a < c ？\", \"cを表示\", label=\"No\")\n",
        "graph.edge(\"a < c ？\", \"aを表示\", label=\"Yes\")\n",
        "graph.edge(\"bを表示\", \"End\")\n",
        "graph.edge(\"cを表示\", \"End\")\n",
        "graph.edge(\"aを表示\", \"End\")\n",
        "\n",
        "graph"
      ],
      "execution_count": null,
      "outputs": []
    },
    {
      "cell_type": "markdown",
      "metadata": {
        "id": "iKDOEnq5QWYP"
      },
      "source": [
        "## ◎2進数と16進数\n",
        "コンピュータでは2進数及び16進数の表記を多用します。  \n",
        "\n",
        "**2進数の例**:  \n",
        "1011  \n",
        "101011  \n",
        "  \n",
        "**16進数の例**:  \n",
        "1F35A  \n",
        "B46C1F2  \n",
        "  \n",
        "我々が日常で使う10進数の基数は「10」で、2進数の基数は「2」、16進数の基数は「16｣となります。  \n",
        "2進数で必要な数字は0と1のみですが、16進数の場合は0から9にAからFを加えて全16種類の数字が必要となります。  \n",
        "10進数では「9」の次に位が上がるのに対して、2進数では「1」の次に、16進数では「F」の次に位が上がります。  \n",
        "  \n",
        "例えば、10進数の「42」は次のように2進数、16進数に変換できます。  \n",
        "  \n",
        "**2進数の場合**:  \n",
        "$$42 = 1\\times 2^5 + 0\\times 2^4 + 1\\times 2^3 + 0\\times 2^2 + 1\\times 2^1 +  0\\times 2^0$$\n",
        "従って、2進数では10進数の42を以下の通りに記述します。  \n",
        "$$ 101010 $$\n",
        "\n",
        "**16進数の場合**:  \n",
        "$$42 = 2\\times 16^1 + 10\\times 16^0$$\n",
        "16進数で10進数の10に対応する数字はAなので、16進数では10進数の42を以下の通りに記述します。  \n",
        "$$ 2A $$\n",
        "\n",
        "Pythonでは、組み込み関数bin()、hex()で数値をそれぞれ2進数、16進数の文字列に変換することができます。"
      ]
    },
    {
      "cell_type": "code",
      "metadata": {
        "id": "s2sxUx98dM5v"
      },
      "source": [
        "a = 42\n",
        "print(\"10進数: \", a)\n",
        "print(\"2進数: \", bin(a))\n",
        "print(\"16進数: \", hex(a))\n",
        "\n",
        "print()  # 1行空ける\n",
        "\n",
        "b = 255\n",
        "print(\"10進数: \", b)\n",
        "print(\"2進数: \", bin(b))\n",
        "print(\"16進数: \", hex(b))"
      ],
      "execution_count": null,
      "outputs": []
    },
    {
      "cell_type": "markdown",
      "metadata": {
        "id": "VROfsgn7eLr7"
      },
      "source": [
        "## @ 演習"
      ]
    },
    {
      "cell_type": "markdown",
      "metadata": {
        "id": "8WDce1OZeSDx"
      },
      "source": [
        "### 演習1\n",
        "値a、b、cのうち**最大値**をみつける手順を表すフローチャートを、Pythonのコードにより描画しましょう。  \n",
        "上記の最小値をみつけるフローチャートのコードを参考にしてください。"
      ]
    },
    {
      "cell_type": "code",
      "metadata": {
        "id": "e2KTwyiLe82Q"
      },
      "source": [
        ""
      ],
      "execution_count": null,
      "outputs": []
    },
    {
      "cell_type": "markdown",
      "metadata": {
        "id": "VauBvXmHfeGR"
      },
      "source": [
        "### 演習2\n",
        "2進数「101011」、16進数「6FA」は以下のようなコードで10進数に変換できます。"
      ]
    },
    {
      "cell_type": "code",
      "metadata": {
        "id": "twN1ZCFFhIWm"
      },
      "source": [
        "print(\"2進数\")\n",
        "b = 2**5 + 2**3 + 2**1 + 2**0  # **は累乗を表す\n",
        "print(\"101011 → \", b)\n",
        "\n",
        "print()  # 1行空ける\n",
        "\n",
        "print(\"16進数\")\n",
        "h = 6*16**2 + 15*16**1 + 10*16**0\n",
        "print(\"6FA → \", h)"
      ],
      "execution_count": null,
      "outputs": []
    },
    {
      "cell_type": "markdown",
      "metadata": {
        "id": "-CICzJMCiK95"
      },
      "source": [
        "以下のコードを補完し、2進数の「10110」、および16進数の「1DE」を10進数に変換しましょう。"
      ]
    },
    {
      "cell_type": "code",
      "metadata": {
        "id": "2xSAgRv7hWxS"
      },
      "source": [
        "print(\"2進数\")\n",
        "b =   # この行に、「10110」を10進数に変換するコードを記述\n",
        "print(\"10110 → \", b)\n",
        "\n",
        "print()  # 1行空ける\n",
        "\n",
        "print(\"16進数\")\n",
        "h =   # この行に、「1DE」を10進数に変換するコードを記述\n",
        "print(\"1DE → \", h)"
      ],
      "execution_count": null,
      "outputs": []
    },
    {
      "cell_type": "markdown",
      "metadata": {
        "id": "nLuRnOSGjYs5"
      },
      "source": [
        "## @解答例"
      ]
    },
    {
      "cell_type": "markdown",
      "metadata": {
        "id": "KTGidDhujeeP"
      },
      "source": [
        "### 演習1"
      ]
    },
    {
      "cell_type": "code",
      "metadata": {
        "id": "kf1byb7XjguU"
      },
      "source": [
        "from graphviz import Digraph\n",
        "\n",
        "graph = Digraph(format=\"png\")\n",
        "\n",
        "graph.attr(\"node\", shape=\"box\", width=\"1\")  # グラフの設定\n",
        "\n",
        "# Nodeの設定\n",
        "graph.node(\"Start\", shape=\"oval\", color=\"red\")\n",
        "graph.node(\"a, b, cの読み込み\")\n",
        "graph.node(\"a > b ?\", shape=\"diamond\")\n",
        "graph.node(\"b > c ？\", shape=\"diamond\")\n",
        "graph.node(\"a > c ？\", shape=\"diamond\")\n",
        "graph.node(\"bを表示\")\n",
        "graph.node(\"cを表示\")\n",
        "graph.node(\"aを表示\")\n",
        "graph.node(\"End\", shape=\"oval\", color=\"blue\")\n",
        "\n",
        "# Edgeの設定\n",
        "graph.edge(\"Start\", \"a, b, cの読み込み\")\n",
        "graph.edge(\"a, b, cの読み込み\", \"a > b ?\")\n",
        "graph.edge(\"a > b ?\", \"b > c ？\", label=\"No\")\n",
        "graph.edge(\"a > b ?\", \"a > c ？\", label=\"Yes\")\n",
        "graph.edge(\"b > c ？\", \"bを表示\", label=\"Yes\")\n",
        "graph.edge(\"b > c ？\", \"cを表示\", label=\"No\")\n",
        "graph.edge(\"a > c ？\", \"cを表示\", label=\"No\")\n",
        "graph.edge(\"a > c ？\", \"aを表示\", label=\"Yes\")\n",
        "graph.edge(\"bを表示\", \"End\")\n",
        "graph.edge(\"cを表示\", \"End\")\n",
        "graph.edge(\"aを表示\", \"End\")\n",
        "\n",
        "graph"
      ],
      "execution_count": null,
      "outputs": []
    },
    {
      "cell_type": "markdown",
      "metadata": {
        "id": "66TAtlpEkTn0"
      },
      "source": [
        "### 演習2"
      ]
    },
    {
      "cell_type": "code",
      "metadata": {
        "id": "-5u8WjXlkVIH"
      },
      "source": [
        "print(\"2進数\")\n",
        "b = 2**4 + 2**2 + 2**1  # この行に、「10110」を10進数に変換するコードを記述\n",
        "print(\"10110 → \", b)\n",
        "\n",
        "print()  # 1行空ける\n",
        "\n",
        "print(\"16進数\")\n",
        "h = 1*16**2 + 13*16**1 + 14*16**0  # この行に、「1DE」を10進数に変換するコードを記述\n",
        "print(\"1DE → \", h)"
      ],
      "execution_count": null,
      "outputs": []
    }
  ]
}